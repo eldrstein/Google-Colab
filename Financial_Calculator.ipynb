{
  "nbformat": 4,
  "nbformat_minor": 0,
  "metadata": {
    "colab": {
      "provenance": []
    },
    "kernelspec": {
      "name": "python3",
      "display_name": "Python 3"
    },
    "language_info": {
      "name": "python"
    }
  },
  "cells": [
    {
      "cell_type": "markdown",
      "source": [
        "Annuity"
      ],
      "metadata": {
        "id": "H2JtAUHaCET0"
      }
    },
    {
      "cell_type": "code",
      "execution_count": 2,
      "metadata": {
        "colab": {
          "base_uri": "https://localhost:8080/"
        },
        "id": "P8tKoxW6Bjuj",
        "outputId": "22bcf86c-3aee-4f16-aaa4-ebda828ab0cb"
      },
      "outputs": [
        {
          "output_type": "stream",
          "name": "stdout",
          "text": [
            "Starting amount = 100\n",
            "Enter the percentage rate, converted to a decimal: 0.1\n",
            "How many years will this investment grow? 10\n",
            "The annuity is  259.3742460100002\n"
          ]
        }
      ],
      "source": [
        "p = float(input(\"Starting amount = \"))\n",
        "r = float(input(\"Enter the percentage rate, converted to a decimal: \"))\n",
        "t = float(input(\"How many years will this investment grow? \"))\n",
        "\n",
        "a = p * (1 + r) ** t\n",
        "\n",
        "print(\"The annuity is \", a)"
      ]
    },
    {
      "cell_type": "markdown",
      "source": [
        "Mortgage Payments"
      ],
      "metadata": {
        "id": "V4p_44nhCvbn"
      }
    },
    {
      "cell_type": "code",
      "source": [
        "p = float(input(\"Amount borrowed: \"))\n",
        "r = float(input(\"Annual percentage rate: \"))\n",
        "t = float(input(\"Number of years: \"))\n",
        "\n",
        "pmt = p * (r / 12) * (1+(r/12)) ** (t*12) / (((1+(r/12)) ** (t*12))-1)\n",
        "\n",
        "print(\"Monthly payment = $\", pmt)"
      ],
      "metadata": {
        "colab": {
          "base_uri": "https://localhost:8080/"
        },
        "id": "uHC7QDryCyQA",
        "outputId": "33822355-304c-4808-d03e-ef0f240df647"
      },
      "execution_count": 4,
      "outputs": [
        {
          "output_type": "stream",
          "name": "stdout",
          "text": [
            "Amount borrowed: 100\n",
            "Annual percentage rate: 0.1\n",
            "Number of years: 10\n",
            "Monthly payment = $ 1.3215073688176193\n"
          ]
        }
      ]
    },
    {
      "cell_type": "markdown",
      "source": [
        "Retirement Investment Balance"
      ],
      "metadata": {
        "id": "U379c70PDXvc"
      }
    },
    {
      "cell_type": "code",
      "source": [
        "p = float(input(\"Annual contribution amount = \"))\n",
        "r = float(input(\"Enter the annual growth rate (as a decimal): \"))\n",
        "t = int(input(\"How many years will this investment grow? \"))\n",
        "\n",
        "balance = 0.0\n",
        "\n",
        "for year in range(1, t + 1):\n",
        "    balance = balance * (1 + r) + p\n",
        "\n",
        "print(\"The final investment balance is $\", balance)\n"
      ],
      "metadata": {
        "colab": {
          "base_uri": "https://localhost:8080/"
        },
        "id": "pWzD-GqLDaA4",
        "outputId": "ab58e116-81e3-4bfc-f459-983b6f082ccd"
      },
      "execution_count": 5,
      "outputs": [
        {
          "output_type": "stream",
          "name": "stdout",
          "text": [
            "Annual contribution amount = 100\n",
            "Enter the annual growth rate (as a decimal): 0.1\n",
            "How many years will this investment grow? 10\n",
            "The final investment balance is $ 1593.7424601000005\n"
          ]
        }
      ]
    },
    {
      "cell_type": "markdown",
      "source": [
        "Amount Doubling given a Rate"
      ],
      "metadata": {
        "id": "HllFqwb7HP7T"
      }
    },
    {
      "cell_type": "code",
      "source": [
        "import math\n",
        "\n",
        "r = float(input(\"Enter the annual rate as a decimal: \\n\"))\n",
        "t = math.log(2)/r\n",
        "print(\"Your money will double in \", t, \" years\")"
      ],
      "metadata": {
        "colab": {
          "base_uri": "https://localhost:8080/"
        },
        "id": "MU0Wu1T2HSVe",
        "outputId": "dc8b8a65-99e2-4127-8be1-aa8b8603b346"
      },
      "execution_count": 6,
      "outputs": [
        {
          "output_type": "stream",
          "name": "stdout",
          "text": [
            "Enter the annual rate as a decimal: \n",
            "0.1\n",
            "Your money will double in  6.931471805599452  years\n"
          ]
        }
      ]
    },
    {
      "cell_type": "markdown",
      "source": [
        "Logarithmic Equation Solver"
      ],
      "metadata": {
        "id": "uk1wCue1ICcs"
      }
    },
    {
      "cell_type": "code",
      "source": [
        "import math\n",
        "\n",
        "choice = input(\"What would you like to solve for? Enter 'x' for exponent or 'y' for logarithm result: \").strip().lower()\n",
        "\n",
        "if choice == 'x':\n",
        "    # Solving for x (exponent)\n",
        "    base = float(input(\"Enter the base of the logarithm (b): \"))\n",
        "    result = float(input(\"Enter the result of the logarithm (y): \"))\n",
        "\n",
        "    # Calculate the exponent (x)\n",
        "    exponent = math.pow(base, result)\n",
        "\n",
        "    # Output the result\n",
        "    print(\"The value of x is:\", exponent)\n",
        "\n",
        "elif choice == 'y':\n",
        "    # Solving for y (logarithm result)\n",
        "    base = float(input(\"Enter the base of the logarithm (b): \"))\n",
        "    exponent = float(input(\"Enter the exponent (x): \"))\n",
        "\n",
        "    # Calculate the logarithm result (y)\n",
        "    result = math.log(exponent, base)\n",
        "\n",
        "    # Output the result\n",
        "    print(\"The value of y is:\", result)\n",
        "\n",
        "else:\n",
        "    print(\"Invalid choice. Please enter 'x' or 'y'.\")"
      ],
      "metadata": {
        "colab": {
          "base_uri": "https://localhost:8080/"
        },
        "id": "dzkS5S0JIHZk",
        "outputId": "91a946a8-fd3f-41f1-8098-f05496fdf703"
      },
      "execution_count": 8,
      "outputs": [
        {
          "output_type": "stream",
          "name": "stdout",
          "text": [
            "What would you like to solve for? Enter 'x' for exponent or 'y' for logarithm result: x\n",
            "Enter the base of the logarithm (b): 3\n",
            "Enter the result of the logarithm (y): 27\n",
            "The value of x is: 7625597484987.0\n"
          ]
        }
      ]
    },
    {
      "cell_type": "markdown",
      "source": [
        "Scientific Notation Converter"
      ],
      "metadata": {
        "id": "BYZM2rTQIqjr"
      }
    },
    {
      "cell_type": "code",
      "source": [
        "value = input(\"Enter a number or a value in scientific notation: \")\n",
        "\n",
        "try:\n",
        "    num = float(value)\n",
        "    if 'e' in value or 'E' in value:\n",
        "        print(f\"Regular number: {num}\")\n",
        "    else:\n",
        "        print(f\"Scientific notation: {num:.2e}\")\n",
        "except ValueError:\n",
        "    print(\"Invalid input. Please enter a valid number.\")\n"
      ],
      "metadata": {
        "colab": {
          "base_uri": "https://localhost:8080/"
        },
        "id": "GaaaZPx1Islg",
        "outputId": "bff88309-4049-41d9-9d5a-930551cb754b"
      },
      "execution_count": 13,
      "outputs": [
        {
          "output_type": "stream",
          "name": "stdout",
          "text": [
            "Enter a number or a value in scientific notation: 0.0034351\n",
            "Scientific notation: 3.44e-03\n"
          ]
        }
      ]
    }
  ]
}