{
  "cells": [
    {
      "cell_type": "code",
      "execution_count": null,
      "metadata": {
        "id": "8RZOuS9LWQvv"
      },
      "outputs": [],
      "source": [
        "# import libraries\n",
        "try:\n",
        "  # %tensorflow_version only exists in Colab.\n",
        "  !pip install tf-nightly\n",
        "except Exception:\n",
        "  pass\n",
        "import tensorflow as tf\n",
        "import pandas as pd\n",
        "from tensorflow import keras\n",
        "!pip install tensorflow-datasets\n",
        "import tensorflow_datasets as tfds\n",
        "import numpy as np\n",
        "import matplotlib.pyplot as plt\n",
        "\n",
        "print(tf.__version__)"
      ]
    },
    {
      "cell_type": "code",
      "execution_count": null,
      "metadata": {
        "id": "lMHwYXHXCar3"
      },
      "outputs": [],
      "source": [
        "# get data files\n",
        "!wget https://cdn.freecodecamp.org/project-data/sms/train-data.tsv\n",
        "!wget https://cdn.freecodecamp.org/project-data/sms/valid-data.tsv\n",
        "\n",
        "train_file_path = \"train-data.tsv\"\n",
        "test_file_path = \"valid-data.tsv\""
      ]
    },
    {
      "cell_type": "code",
      "execution_count": null,
      "metadata": {
        "id": "g_h508FEClxO"
      },
      "outputs": [],
      "source": [
        "train_df = pd.read_csv(train_file_path, sep='\\t', header=None, names=['label', 'message'])\n",
        "test_df = pd.read_csv(test_file_path, sep='\\t', header=None, names=['label', 'message'])\n",
        "\n",
        "train_df['label_num'] = train_df['label'].map({'ham': 0, 'spam': 1})\n",
        "test_df['label_num'] = test_df['label'].map({'ham': 0, 'spam': 1})\n",
        "\n",
        "train_text = train_df['message'].values\n",
        "train_labels = train_df['label_num'].values\n",
        "test_text = test_df['message'].values\n",
        "test_labels = test_df['label_num'].values"
      ]
    },
    {
      "cell_type": "code",
      "execution_count": null,
      "metadata": {
        "id": "zOMKywn4zReN"
      },
      "outputs": [],
      "source": [
        "# Define a function to manually pad or trim text using a special padding symbol\n",
        "MAX_FEATURES=10000\n",
        "SEQUENCE_LENGTH=100\n",
        "def pad_text(text, max_len=SEQUENCE_LENGTH, pad_symbol='<PAD>'):\n",
        "    words = text.split()\n",
        "    if len(words) > max_len:\n",
        "        return ' '.join(words[:max_len])\n",
        "    else:\n",
        "        return ' '.join(words + [pad_symbol] * (max_len - len(words)))\n",
        "\n",
        "train_df['padded_message'] = train_df['message'].apply(lambda x: pad_text(x))\n",
        "test_df['padded_message'] = test_df['message'].apply(lambda x: pad_text(x))\n",
        "\n",
        "vectorize_layer = tf.keras.layers.TextVectorization(\n",
        "    max_tokens=MAX_FEATURES,\n",
        "    output_mode='int',\n",
        "    output_sequence_length=SEQUENCE_LENGTH,\n",
        "    standardize='lower_and_strip_punctuation'\n",
        ")\n",
        "\n",
        "vectorize_layer.adapt(train_df['padded_message'])\n",
        "\n",
        "train_ds = tf.data.Dataset.from_tensor_slices((train_df['padded_message'].values, train_labels))\n",
        "test_ds = tf.data.Dataset.from_tensor_slices((test_df['padded_message'].values, test_labels))\n",
        "\n",
        "def vectorize_text(text, label):\n",
        "    return vectorize_layer(text), label\n",
        "\n",
        "train_ds = train_ds.map(vectorize_text).shuffle(10000).batch(32).prefetch(tf.data.AUTOTUNE)\n",
        "test_ds = test_ds.map(vectorize_text).batch(32).prefetch(tf.data.AUTOTUNE)\n",
        "\n",
        "model = tf.keras.Sequential([\n",
        "    tf.keras.layers.Embedding(input_dim=MAX_FEATURES + 1, output_dim=64, input_length=SEQUENCE_LENGTH),\n",
        "    tf.keras.layers.Bidirectional(tf.keras.layers.LSTM(64, return_sequences=True)),\n",
        "    tf.keras.layers.GlobalAveragePooling1D(),\n",
        "    tf.keras.layers.Dropout(0.5),\n",
        "    tf.keras.layers.Dense(32, activation='relu'),\n",
        "    tf.keras.layers.Dropout(0.5),\n",
        "    tf.keras.layers.Dense(1, activation='sigmoid')\n",
        "])\n",
        "\n",
        "model.compile(loss='binary_crossentropy', optimizer='adam', metrics=['accuracy'])\n",
        "\n",
        "history = model.fit(train_ds, validation_data=test_ds, epochs=8)\n"
      ]
    },
    {
      "cell_type": "code",
      "execution_count": null,
      "metadata": {
        "id": "J9tD9yACG6M9"
      },
      "outputs": [],
      "source": [
        "# Function to predict messages based on the trained model\n",
        "# (should return list containing prediction and label, e.g., [0.008318834938108921, 'ham'])\n",
        "def predict_message(pred_text):\n",
        "    padded_text = pad_text(pred_text)\n",
        "\n",
        "    pred_text_vectorized = vectorize_layer([padded_text])\n",
        "\n",
        "    prediction_score = model.predict(pred_text_vectorized)[0][0]\n",
        "\n",
        "    label = 'spam' if prediction_score > 0.5 else 'ham'\n",
        "\n",
        "    return [float(prediction_score), label]\n",
        "\n",
        "pred_text = \"our new mobile video service is live. just install on your phone to start watching.\"\n",
        "test_messages = [\"how are you doing today\",\n",
        "                   \"sale today! to stop texts call 98912460324\",\n",
        "                   \"i dont want to go. can we try it a different day? available sat\",\n",
        "                   \"our new mobile video service is live. just install on your phone to start watching.\",\n",
        "                   \"you have won £1000 cash! call to claim your prize.\",\n",
        "                   \"i'll bring it tomorrow. don't forget the milk.\",\n",
        "                   \"wow, is your arm alright. that happened to me one time too\"\n",
        "                  ]\n",
        "\n",
        "prediction = predict_message(pred_text)\n",
        "print(prediction)\n",
        "\n",
        "for msg in test_messages:\n",
        "    prediction = predict_message(msg)\n",
        "    print(f\"Message: '{msg}' -> Prediction: {prediction}\")\n"
      ]
    },
    {
      "cell_type": "code",
      "execution_count": null,
      "metadata": {
        "id": "Dxotov85SjsC"
      },
      "outputs": [],
      "source": [
        "# Run this cell to test your function and model. Do not modify contents.\n",
        "def test_predictions():\n",
        "  test_messages = [\"how are you doing today\",\n",
        "                   \"sale today! to stop texts call 98912460324\",\n",
        "                   \"i dont want to go. can we try it a different day? available sat\",\n",
        "                   \"our new mobile video service is live. just install on your phone to start watching.\",\n",
        "                   \"you have won £1000 cash! call to claim your prize.\",\n",
        "                   \"i'll bring it tomorrow. don't forget the milk.\",\n",
        "                   \"wow, is your arm alright. that happened to me one time too\"\n",
        "                  ]\n",
        "\n",
        "  test_answers = [\"ham\", \"spam\", \"ham\", \"spam\", \"spam\", \"ham\", \"ham\"]\n",
        "  passed = True\n",
        "\n",
        "  for msg, ans in zip(test_messages, test_answers):\n",
        "    prediction = predict_message(msg)\n",
        "    if prediction[1] != ans:\n",
        "      passed = False\n",
        "\n",
        "  if passed:\n",
        "    print(\"You passed the challenge. Great job!\")\n",
        "  else:\n",
        "    print(\"You haven't passed yet. Keep trying.\")\n",
        "\n",
        "test_predictions()\n"
      ]
    }
  ],
  "metadata": {
    "colab": {
      "private_outputs": true,
      "provenance": [],
      "toc_visible": true
    },
    "kernelspec": {
      "display_name": "Python 3",
      "name": "python3"
    },
    "language_info": {}
  },
  "nbformat": 4,
  "nbformat_minor": 0
}